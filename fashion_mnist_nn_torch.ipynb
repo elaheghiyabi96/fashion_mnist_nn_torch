{
 "cells": [
  {
   "cell_type": "code",
   "execution_count": 4,
   "metadata": {},
   "outputs": [
    {
     "name": "stdout",
     "output_type": "stream",
     "text": [
      "Using device: cpu\n",
      "Epoch 1/15, Train Loss: 0.6429, Test Loss: 0.4658\n",
      "Epoch 2/15, Train Loss: 0.4733, Test Loss: 0.4061\n",
      "Epoch 3/15, Train Loss: 0.4326, Test Loss: 0.4047\n",
      "Epoch 4/15, Train Loss: 0.4141, Test Loss: 0.3803\n",
      "Epoch 5/15, Train Loss: 0.4008, Test Loss: 0.3700\n",
      "Epoch 6/15, Train Loss: 0.3854, Test Loss: 0.3712\n",
      "Epoch 7/15, Train Loss: 0.3790, Test Loss: 0.3766\n",
      "Epoch 8/15, Train Loss: 0.3694, Test Loss: 0.3642\n",
      "Epoch 9/15, Train Loss: 0.3607, Test Loss: 0.3605\n",
      "Epoch 10/15, Train Loss: 0.3605, Test Loss: 0.3615\n",
      "Epoch 11/15, Train Loss: 0.3489, Test Loss: 0.3552\n",
      "Epoch 12/15, Train Loss: 0.3495, Test Loss: 0.3469\n",
      "Epoch 13/15, Train Loss: 0.3464, Test Loss: 0.3447\n",
      "Epoch 14/15, Train Loss: 0.3388, Test Loss: 0.3388\n",
      "Epoch 15/15, Train Loss: 0.3363, Test Loss: 0.3500\n",
      "Test Accuracy: 87.67%\n"
     ]
    },
    {
     "data": {
      "image/png": "[encoded data removed]",
      "text/plain": [
       "<Figure size 432x288 with 1 Axes>"
      ]
     },
     "metadata": {
      "needs_background": "light"
     },
     "output_type": "display_data"
    }
   ],
   "source": [
    "import torch\n",
    "import torch.nn as nn\n",
    "import torch.optim as optim\n",
    "from torchvision import datasets, transforms\n",
    "from torch.utils.data import DataLoader\n",
    "import matplotlib.pyplot as plt\n",
    "\n",
    "# Select device: use GPU if available, otherwise fallback to CPU\n",
    "device = torch.device(\"cuda\" if torch.cuda.is_available() else \"cpu\")\n",
    "print(f\"Using device: {device}\")\n",
    "\n",
    "# Data preprocessing: convert images to tensors\n",
    "transform = transforms.Compose([transforms.ToTensor()])\n",
    "\n",
    "# Load the FashionMNIST dataset for training and testing\n",
    "train_data = datasets.FashionMNIST(root='./data', train=True, download=True, transform=transform)\n",
    "test_data = datasets.FashionMNIST(root='./data', train=False, download=True, transform=transform)\n",
    "\n",
    "# Create data loaders for batching and shuffling\n",
    "train_loader = DataLoader(train_data, batch_size=32, shuffle=True)\n",
    "test_loader = DataLoader(test_data, batch_size=32, shuffle=False)\n",
    "\n",
    "# Define a feedforward neural network with 3 hidden layers and dropout\n",
    "class SimpleNN(nn.Module):\n",
    "    def __init__(self):\n",
    "        super(SimpleNN, self).__init__()\n",
    "        self.fc1 = nn.Linear(28 * 28, 128)       # First hidden layer (input: 784 → output: 128)\n",
    "        self.relu1 = nn.ReLU()\n",
    "        self.dropout1 = nn.Dropout(0.3)\n",
    "\n",
    "        self.fc2 = nn.Linear(128, 256)           # Second hidden layer (128 → 256)\n",
    "        self.relu2 = nn.ReLU()\n",
    "        self.dropout2 = nn.Dropout(0.3)\n",
    "\n",
    "        self.fc3 = nn.Linear(256, 64)            # Third hidden layer (256 → 64)\n",
    "        self.relu3 = nn.ReLU()\n",
    "        self.dropout3 = nn.Dropout(0.3)\n",
    "\n",
    "        self.fc4 = nn.Linear(64, 10)             # Output layer (64 → 10 classes)\n",
    "\n",
    "    def forward(self, x):\n",
    "        x = x.view(-1, 28 * 28)                  # Flatten input image from 1x28x28 to 784\n",
    "        x = self.fc1(x)\n",
    "        x = self.relu1(x)\n",
    "        x = self.dropout1(x)\n",
    "\n",
    "        x = self.fc2(x)\n",
    "        x = self.relu2(x)\n",
    "        x = self.dropout2(x)\n",
    "\n",
    "        x = self.fc3(x)\n",
    "        x = self.relu3(x)\n",
    "        x = self.dropout3(x)\n",
    "\n",
    "        x = self.fc4(x)\n",
    "        return x\n",
    "\n",
    "# Initialize model, loss function, and optimizer\n",
    "model = SimpleNN().to(device)\n",
    "criterion = nn.CrossEntropyLoss()                               # Suitable for multi-class classification\n",
    "optimizer = optim.Adam(model.parameters(), lr=0.001, weight_decay=1e-5)\n",
    "\n",
    "# Lists to store loss values for plotting\n",
    "train_losses = []\n",
    "test_losses = []\n",
    "\n",
    "# Training loop for 15 epochs\n",
    "for epoch in range(15):\n",
    "    model.train()                                # Set model to training mode\n",
    "    total_loss = 0\n",
    "    for images, labels in train_loader:\n",
    "        images, labels = images.to(device), labels.to(device)\n",
    "\n",
    "        optimizer.zero_grad()                    # Clear previous gradients\n",
    "        outputs = model(images)                  # Forward pass\n",
    "        loss = criterion(outputs, labels)        # Compute loss\n",
    "        loss.backward()                          # Backward pass\n",
    "        optimizer.step()                         # Update model weights\n",
    "\n",
    "        total_loss += loss.item()\n",
    "\n",
    "    avg_train_loss = total_loss / len(train_loader)\n",
    "    train_losses.append(avg_train_loss)\n",
    "\n",
    "    # Evaluate model on test set\n",
    "    model.eval()\n",
    "    test_loss = 0\n",
    "    with torch.no_grad():                        # No need to compute gradients\n",
    "        for images, labels in test_loader:\n",
    "            images, labels = images.to(device), labels.to(device)\n",
    "            outputs = model(images)\n",
    "            loss = criterion(outputs, labels)\n",
    "            test_loss += loss.item()\n",
    "\n",
    "    avg_test_loss = test_loss / len(test_loader)\n",
    "    test_losses.append(avg_test_loss)\n",
    "\n",
    "    print(f\"Epoch {epoch+1}/15, Train Loss: {avg_train_loss:.4f}, Test Loss: {avg_test_loss:.4f}\")\n",
    "\n",
    "# Final evaluation on the test dataset\n",
    "model.eval()\n",
    "correct = 0\n",
    "total = 0\n",
    "with torch.no_grad():\n",
    "    for images, labels in test_loader:\n",
    "        images, labels = images.to(device), labels.to(device)\n",
    "        outputs = model(images)\n",
    "        _, predicted = torch.max(outputs, 1)     # Choose class with highest probability\n",
    "        total += labels.size(0)\n",
    "        correct += (predicted == labels).sum().item()\n",
    "\n",
    "accuracy = 100 * correct / total\n",
    "print(f\"Test Accuracy: {accuracy:.2f}%\")\n",
    "\n",
    "# Plot training and test loss curves\n",
    "plt.plot(train_losses, label='Train Loss')\n",
    "plt.plot(test_losses, label='Test Loss')\n",
    "plt.xlabel('Epoch')\n",
    "plt.ylabel('Loss')\n",
    "plt.legend()\n",
    "plt.title('Train vs Test Loss')\n",
    "plt.grid(True)\n",
    "plt.show()\n"
   ]
  },
  {
   "cell_type": "code",
   "execution_count": 5,
   "metadata": {},
   "outputs": [
    {
     "name": "stdout",
     "output_type": "stream",
     "text": [
      "True label: Dress\n",
      "Predicted label: Dress\n"
     ]
    },
    {
     "data": {
      "image/png": "[encoded data removed]",
      "text/plain": [
       "<Figure size 432x288 with 1 Axes>"
      ]
     },
     "metadata": {
      "needs_background": "light"
     },
     "output_type": "display_data"
    }
   ],
   "source": [
    "# Display a specific test image and its prediction\n",
    "import numpy as np\n",
    "\n",
    "# Get image and label at index 100\n",
    "index = 100\n",
    "image, label = test_data[index]\n",
    "\n",
    "# Move model to eval mode and disable gradients\n",
    "model.eval()\n",
    "with torch.no_grad():\n",
    "    input_image = image.unsqueeze(0).to(device)  # Add batch dimension and send to device\n",
    "    output = model(input_image)\n",
    "    predicted_class = output.argmax(dim=1).item()\n",
    "\n",
    "# Class names for FashionMNIST\n",
    "class_names = ['T-shirt/top', 'Trouser', 'Pullover', 'Dress', 'Coat',\n",
    "               'Sandal', 'Shirt', 'Sneaker', 'Bag', 'Ankle boot']\n",
    "\n",
    "# Print actual and predicted classes\n",
    "print(\"True label:\", class_names[label])\n",
    "print(\"Predicted label:\", class_names[predicted_class])\n",
    "\n",
    "# Plot the image\n",
    "plt.imshow(np.squeeze(image), cmap='gray')\n",
    "plt.title(f\"True: {class_names[label]}, Predicted: {class_names[predicted_class]}\")\n",
    "plt.axis('off')\n",
    "plt.show()\n"
   ]
  },
  {
   "cell_type": "code",
   "execution_count": null,
   "metadata": {},
   "outputs": [],
   "source": []
  }
 ],
 "metadata": {
  "kernelspec": {
   "display_name": "Python 3",
   "language": "python",
   "name": "python3"
  },
  "language_info": {
   "codemirror_mode": {
    "name": "ipython",
    "version": 3
   },
   "file_extension": ".py",
   "mimetype": "text/x-python",
   "name": "python",
   "nbconvert_exporter": "python",
   "pygments_lexer": "ipython3",
   "version": "3.7.6"
  }
 },
 "nbformat": 4,
 "nbformat_minor": 4
}
